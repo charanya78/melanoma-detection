{
 "cells": [
  {
   "cell_type": "markdown",
   "metadata": {},
   "source": [
    "# Baseline CNN and creation of BSD\n",
    "\n",
    "### This file has the results of the baseline CNN and the creation of BSD dataset. The steps performed are:\n",
    "\n",
    "1. This dataset consists of 2302 training and 998 test samples. \n",
    "2. The experimental dataset is randomly split into train and test sets with a split ratio of 70:30.\n",
    "3. The baseline CNN model has four convolutional layers with 15 filters each of size 3*3. \n",
    "4. Adam's technique is used as the optimizer. Binary cross-entropy is used as the loss function. \n",
    "5. This CNN is trained for 150 epochs. \n",
    "6. Softmax is used as the final activation function which outputs predicted probabilities. \n",
    "7. The BSD is created which contains all the samples whose confidence factor is less than a certain threshold"
   ]
  },
  {
   "cell_type": "code",
   "execution_count": 3,
   "metadata": {},
   "outputs": [],
   "source": [
    "import scipy.misc\n",
    "import random\n",
    "import imageio\n",
    "from keras.utils import to_categorical\n",
    "import tensorflow as tf\n",
    "from tensorflow.python.tools import freeze_graph\n",
    "from tensorflow.python.tools import optimize_for_inference_lib\n",
    "from keras.applications.inception_v3 import InceptionV3\n",
    "\n",
    "from sklearn.preprocessing import StandardScaler\n",
    "from sklearn.decomposition import PCA\n",
    "import numpy as np\n",
    "import matplotlib.pyplot as plt\n",
    "\n",
    "from sklearn.utils import shuffle\n",
    "from sklearn.model_selection import train_test_split\n",
    "\n",
    "from keras.utils.vis_utils import plot_model\n",
    "from keras import backend as K\n",
    "import keras.optimizers as optimizers\n",
    "from keras.utils import np_utils\n",
    "from keras.models import Sequential\n",
    "from keras.layers.core import Dense, Dropout, Activation, Flatten\n",
    "from keras.models import load_model\n",
    "from keras.layers import Lambda, Conv2D, MaxPooling2D, Dropout, Dense, Flatten, Activation, BatchNormalization\n",
    "from keras.optimizers import SGD,RMSprop,Adam"
   ]
  },
  {
   "cell_type": "markdown",
   "metadata": {},
   "source": [
    "The malignant and benign data is loaded to np arrays. "
   ]
  },
  {
   "cell_type": "code",
   "execution_count": 4,
   "metadata": {},
   "outputs": [],
   "source": [
    "xs = []\n",
    "ys = []\n",
    "def Load_data_malignant():\n",
    "    path =\"Dataset_Final/malignant\"\n",
    "    x_out = []\n",
    "    y_out = []\n",
    "    for i in range(1, 1500):\n",
    "        img = imageio.imread(path +'/' + str(i) + '.jpg')\n",
    "        lab = 1 \n",
    "        x_out.append(img)\n",
    "        y_out.append(lab)\n",
    "    return x_out, y_out\n"
   ]
  },
  {
   "cell_type": "code",
   "execution_count": 5,
   "metadata": {},
   "outputs": [],
   "source": [
    "def Load_data_benign():\n",
    "    path =\"Dataset_Final/benign\"\n",
    "    x_out = []\n",
    "    y_out = []\n",
    "    for i in range(1, 1800):\n",
    "        img = imageio.imread(path +'/' + str(i) + '.jpg')\n",
    "        lab = 0 \n",
    "        x_out.append(img)\n",
    "        y_out.append(lab)\n",
    "    return x_out, y_out"
   ]
  },
  {
   "cell_type": "markdown",
   "metadata": {},
   "source": [
    "The benign and malignant arrays are assigned to x and y arrays"
   ]
  },
  {
   "cell_type": "code",
   "execution_count": 6,
   "metadata": {},
   "outputs": [],
   "source": [
    "x_0, y_0 = Load_data_benign()"
   ]
  },
  {
   "cell_type": "code",
   "execution_count": 11,
   "metadata": {},
   "outputs": [],
   "source": [
    "x_1, y_1 = Load_data_malignant()"
   ]
  },
  {
   "cell_type": "code",
   "execution_count": 13,
   "metadata": {},
   "outputs": [],
   "source": [
    "x_0 = np.array(x_0)\n",
    "y_0 = np.array(y_0)\n",
    "\n",
    "x_1 = np.array(x_1)\n",
    "y_1 = np.array(y_1)\n"
   ]
  },
  {
   "cell_type": "markdown",
   "metadata": {},
   "source": [
    "The arrays are concatenated to form x and y arrays (features, outputs)"
   ]
  },
  {
   "cell_type": "code",
   "execution_count": 14,
   "metadata": {},
   "outputs": [],
   "source": [
    "num_classes = 2\n",
    "x=np.concatenate((x_0, x_1), axis=0)\n",
    "y=np.concatenate((y_0, y_1), axis=0)\n",
    "\n",
    "y = np_utils.to_categorical(y, num_classes)"
   ]
  },
  {
   "cell_type": "markdown",
   "metadata": {},
   "source": [
    "The data is split as train and test with 70:30 split"
   ]
  },
  {
   "cell_type": "code",
   "execution_count": 15,
   "metadata": {},
   "outputs": [],
   "source": [
    "x_train, x_Test, y_train, y_Test = train_test_split(x, y, test_size=0.3, random_state=5,stratify=y)"
   ]
  },
  {
   "cell_type": "markdown",
   "metadata": {},
   "source": [
    "The CNN model is defined below"
   ]
  },
  {
   "cell_type": "code",
   "execution_count": 16,
   "metadata": {},
   "outputs": [],
   "source": [
    "nClasses = 2\n",
    "\n",
    "def createModel():\n",
    "    model = Sequential()\n",
    "    \n",
    "    model.add(Conv2D(15, (3, 3), padding='valid', activation='relu', input_shape=(224,224,3)))\n",
    "    model.add(BatchNormalization())\n",
    "      \n",
    "    model.add(Conv2D(15, (3, 3), padding='same',activation='relu'))\n",
    "    model.add(BatchNormalization())\n",
    "    model.add(MaxPooling2D(pool_size=(2, 2)))\n",
    "    model.add(Dropout(0.3))\n",
    " \n",
    "    model.add(Conv2D(15, (3, 3), padding='same',activation='relu'))\n",
    "    model.add(BatchNormalization())\n",
    "    model.add(MaxPooling2D(pool_size=(2, 2)))\n",
    "    model.add(Dropout(0.3))\n",
    "    \n",
    "    model.add(Conv2D(15, (3, 3), padding='valid', activation='relu'))\n",
    "    model.add(BatchNormalization())\n",
    "    model.add(MaxPooling2D(pool_size=(2, 2)))\n",
    "    \n",
    "    model.add(Flatten())\n",
    "    model.add(Dense(100, activation='relu'))\n",
    "    model.add(Dropout(0.3))\n",
    "    model.add(Dense(nClasses, activation='softmax'))\n",
    "    model.summary()\n",
    "     \n",
    "    return model"
   ]
  },
  {
   "cell_type": "markdown",
   "metadata": {},
   "source": [
    "Optimizer is chosen as Adam, binary cross entropy is the loss function, with epochs as 150"
   ]
  },
  {
   "cell_type": "code",
   "execution_count": 17,
   "metadata": {},
   "outputs": [
    {
     "name": "stdout",
     "output_type": "stream",
     "text": [
      "Model: \"sequential\"\n",
      "_________________________________________________________________\n",
      " Layer (type)                Output Shape              Param #   \n",
      "=================================================================\n",
      " conv2d (Conv2D)             (None, 222, 222, 15)      420       \n",
      "                                                                 \n",
      " batch_normalization (BatchN  (None, 222, 222, 15)     60        \n",
      " ormalization)                                                   \n",
      "                                                                 \n",
      " conv2d_1 (Conv2D)           (None, 222, 222, 15)      2040      \n",
      "                                                                 \n",
      " batch_normalization_1 (Batc  (None, 222, 222, 15)     60        \n",
      " hNormalization)                                                 \n",
      "                                                                 \n",
      " max_pooling2d (MaxPooling2D  (None, 111, 111, 15)     0         \n",
      " )                                                               \n",
      "                                                                 \n",
      " dropout (Dropout)           (None, 111, 111, 15)      0         \n",
      "                                                                 \n",
      " conv2d_2 (Conv2D)           (None, 111, 111, 15)      2040      \n",
      "                                                                 \n",
      " batch_normalization_2 (Batc  (None, 111, 111, 15)     60        \n",
      " hNormalization)                                                 \n",
      "                                                                 \n",
      " max_pooling2d_1 (MaxPooling  (None, 55, 55, 15)       0         \n",
      " 2D)                                                             \n",
      "                                                                 \n",
      " dropout_1 (Dropout)         (None, 55, 55, 15)        0         \n",
      "                                                                 \n",
      " conv2d_3 (Conv2D)           (None, 53, 53, 15)        2040      \n",
      "                                                                 \n",
      " batch_normalization_3 (Batc  (None, 53, 53, 15)       60        \n",
      " hNormalization)                                                 \n",
      "                                                                 \n",
      " max_pooling2d_2 (MaxPooling  (None, 26, 26, 15)       0         \n",
      " 2D)                                                             \n",
      "                                                                 \n",
      " flatten (Flatten)           (None, 10140)             0         \n",
      "                                                                 \n",
      " dense (Dense)               (None, 100)               1014100   \n",
      "                                                                 \n",
      " dropout_2 (Dropout)         (None, 100)               0         \n",
      "                                                                 \n",
      " dense_1 (Dense)             (None, 2)                 202       \n",
      "                                                                 \n",
      "=================================================================\n",
      "Total params: 1,021,082\n",
      "Trainable params: 1,020,962\n",
      "Non-trainable params: 120\n",
      "_________________________________________________________________\n"
     ]
    },
    {
     "name": "stderr",
     "output_type": "stream",
     "text": [
      "C:\\Users\\Kannan-PC\\anaconda3\\lib\\site-packages\\keras\\optimizers\\optimizer_v2\\adam.py:110: UserWarning: The `lr` argument is deprecated, use `learning_rate` instead.\n",
      "  super(Adam, self).__init__(name, **kwargs)\n"
     ]
    }
   ],
   "source": [
    "model1 = None\n",
    "model1 = createModel()\n",
    "batch_size = 40\n",
    "epochs = 150\n",
    "opt = optimizers.Adam(lr=0.001, beta_1=0.9, beta_2=0.99, epsilon=None, decay=0)\n",
    "model1.compile(loss='binary_crossentropy', optimizer=opt,metrics = ['categorical_accuracy'])"
   ]
  },
  {
   "cell_type": "markdown",
   "metadata": {},
   "source": [
    "The model is fit to the data"
   ]
  },
  {
   "cell_type": "code",
   "execution_count": 20,
   "metadata": {},
   "outputs": [
    {
     "name": "stdout",
     "output_type": "stream",
     "text": [
      "Epoch 1/150\n",
      "58/58 [==============================] - 142s 2s/step - loss: 0.6681 - categorical_accuracy: 0.7533 - val_loss: 0.8232 - val_categorical_accuracy: 0.5501\n",
      "Epoch 2/150\n",
      "58/58 [==============================] - 151s 3s/step - loss: 0.4124 - categorical_accuracy: 0.7992 - val_loss: 1.4596 - val_categorical_accuracy: 0.5905\n",
      "Epoch 3/150\n",
      "58/58 [==============================] - 139s 2s/step - loss: 0.3905 - categorical_accuracy: 0.8088 - val_loss: 1.1373 - val_categorical_accuracy: 0.6562\n",
      "Epoch 4/150\n",
      "58/58 [==============================] - 128s 2s/step - loss: 0.3530 - categorical_accuracy: 0.8105 - val_loss: 0.6749 - val_categorical_accuracy: 0.7634\n",
      "Epoch 5/150\n",
      "58/58 [==============================] - 128s 2s/step - loss: 0.3530 - categorical_accuracy: 0.8222 - val_loss: 0.8719 - val_categorical_accuracy: 0.7492\n",
      "Epoch 6/150\n",
      "58/58 [==============================] - 127s 2s/step - loss: 0.3322 - categorical_accuracy: 0.8248 - val_loss: 0.7086 - val_categorical_accuracy: 0.7897\n",
      "Epoch 7/150\n",
      "58/58 [==============================] - 127s 2s/step - loss: 0.3050 - categorical_accuracy: 0.8391 - val_loss: 0.5555 - val_categorical_accuracy: 0.7907\n",
      "Epoch 8/150\n",
      "58/58 [==============================] - 128s 2s/step - loss: 0.3087 - categorical_accuracy: 0.8365 - val_loss: 1.1197 - val_categorical_accuracy: 0.7169\n",
      "Epoch 9/150\n",
      "58/58 [==============================] - 127s 2s/step - loss: 0.2884 - categorical_accuracy: 0.8408 - val_loss: 0.5494 - val_categorical_accuracy: 0.7917\n",
      "Epoch 10/150\n",
      "58/58 [==============================] - 128s 2s/step - loss: 0.2741 - categorical_accuracy: 0.8565 - val_loss: 0.8898 - val_categorical_accuracy: 0.7644\n",
      "Epoch 11/150\n",
      "58/58 [==============================] - 127s 2s/step - loss: 0.2661 - categorical_accuracy: 0.8669 - val_loss: 0.5104 - val_categorical_accuracy: 0.7947\n",
      "Epoch 12/150\n",
      "58/58 [==============================] - 128s 2s/step - loss: 0.2482 - categorical_accuracy: 0.8695 - val_loss: 0.7626 - val_categorical_accuracy: 0.7351\n",
      "Epoch 13/150\n",
      "58/58 [==============================] - 128s 2s/step - loss: 0.2396 - categorical_accuracy: 0.8825 - val_loss: 1.2781 - val_categorical_accuracy: 0.6744\n",
      "Epoch 14/150\n",
      "58/58 [==============================] - 127s 2s/step - loss: 0.2186 - categorical_accuracy: 0.8903 - val_loss: 0.4971 - val_categorical_accuracy: 0.8119\n",
      "Epoch 15/150\n",
      "58/58 [==============================] - 128s 2s/step - loss: 0.2185 - categorical_accuracy: 0.8946 - val_loss: 0.5665 - val_categorical_accuracy: 0.7765\n",
      "Epoch 16/150\n",
      "58/58 [==============================] - 128s 2s/step - loss: 0.1854 - categorical_accuracy: 0.9068 - val_loss: 0.6975 - val_categorical_accuracy: 0.7583\n",
      "Epoch 17/150\n",
      "58/58 [==============================] - 128s 2s/step - loss: 0.2007 - categorical_accuracy: 0.9068 - val_loss: 0.7386 - val_categorical_accuracy: 0.7735\n",
      "Epoch 18/150\n",
      "58/58 [==============================] - 127s 2s/step - loss: 0.1648 - categorical_accuracy: 0.9241 - val_loss: 0.5529 - val_categorical_accuracy: 0.7887\n",
      "Epoch 19/150\n",
      "58/58 [==============================] - 127s 2s/step - loss: 0.1552 - categorical_accuracy: 0.9232 - val_loss: 1.0008 - val_categorical_accuracy: 0.7007\n",
      "Epoch 20/150\n",
      "58/58 [==============================] - 127s 2s/step - loss: 0.1363 - categorical_accuracy: 0.9350 - val_loss: 0.7262 - val_categorical_accuracy: 0.7604\n",
      "Epoch 21/150\n",
      "58/58 [==============================] - 127s 2s/step - loss: 0.1272 - categorical_accuracy: 0.9454 - val_loss: 0.9668 - val_categorical_accuracy: 0.7553\n",
      "Epoch 22/150\n",
      "58/58 [==============================] - 127s 2s/step - loss: 0.1357 - categorical_accuracy: 0.9397 - val_loss: 1.0672 - val_categorical_accuracy: 0.7513\n",
      "Epoch 23/150\n",
      "58/58 [==============================] - 127s 2s/step - loss: 0.1249 - categorical_accuracy: 0.9475 - val_loss: 0.7647 - val_categorical_accuracy: 0.8190\n",
      "Epoch 24/150\n",
      "58/58 [==============================] - 127s 2s/step - loss: 0.1018 - categorical_accuracy: 0.9562 - val_loss: 0.9450 - val_categorical_accuracy: 0.7594\n",
      "Epoch 25/150\n",
      "58/58 [==============================] - 127s 2s/step - loss: 0.1047 - categorical_accuracy: 0.9584 - val_loss: 0.8343 - val_categorical_accuracy: 0.7998\n",
      "Epoch 26/150\n",
      "58/58 [==============================] - 127s 2s/step - loss: 0.0938 - categorical_accuracy: 0.9584 - val_loss: 3.1970 - val_categorical_accuracy: 0.7422\n",
      "Epoch 27/150\n",
      "58/58 [==============================] - 1641s 29s/step - loss: 0.0970 - categorical_accuracy: 0.9640 - val_loss: 1.2984 - val_categorical_accuracy: 0.7988\n",
      "Epoch 28/150\n",
      "58/58 [==============================] - 131s 2s/step - loss: 0.0758 - categorical_accuracy: 0.9670 - val_loss: 1.0844 - val_categorical_accuracy: 0.7806\n",
      "Epoch 29/150\n",
      "58/58 [==============================] - 128s 2s/step - loss: 0.0723 - categorical_accuracy: 0.9683 - val_loss: 0.9550 - val_categorical_accuracy: 0.8190\n",
      "Epoch 30/150\n",
      "58/58 [==============================] - 128s 2s/step - loss: 0.0684 - categorical_accuracy: 0.9718 - val_loss: 1.1128 - val_categorical_accuracy: 0.7978\n",
      "Epoch 31/150\n",
      "58/58 [==============================] - 128s 2s/step - loss: 0.0635 - categorical_accuracy: 0.9757 - val_loss: 0.9511 - val_categorical_accuracy: 0.8089\n",
      "Epoch 32/150\n",
      "58/58 [==============================] - 128s 2s/step - loss: 0.0542 - categorical_accuracy: 0.9775 - val_loss: 2.0134 - val_categorical_accuracy: 0.7867\n",
      "Epoch 33/150\n",
      "58/58 [==============================] - 128s 2s/step - loss: 0.0568 - categorical_accuracy: 0.9775 - val_loss: 1.4063 - val_categorical_accuracy: 0.7765\n",
      "Epoch 34/150\n",
      "58/58 [==============================] - 127s 2s/step - loss: 0.0558 - categorical_accuracy: 0.9783 - val_loss: 1.2930 - val_categorical_accuracy: 0.7846\n",
      "Epoch 35/150\n",
      "58/58 [==============================] - 127s 2s/step - loss: 0.0427 - categorical_accuracy: 0.9831 - val_loss: 1.0449 - val_categorical_accuracy: 0.8069\n",
      "Epoch 36/150\n",
      "58/58 [==============================] - 127s 2s/step - loss: 0.0669 - categorical_accuracy: 0.9735 - val_loss: 1.0028 - val_categorical_accuracy: 0.8079\n",
      "Epoch 37/150\n",
      "58/58 [==============================] - 127s 2s/step - loss: 0.0657 - categorical_accuracy: 0.9744 - val_loss: 1.6238 - val_categorical_accuracy: 0.7735\n",
      "Epoch 38/150\n",
      "58/58 [==============================] - 127s 2s/step - loss: 0.0394 - categorical_accuracy: 0.9840 - val_loss: 1.7288 - val_categorical_accuracy: 0.7735\n",
      "Epoch 39/150\n",
      "58/58 [==============================] - 127s 2s/step - loss: 0.0525 - categorical_accuracy: 0.9801 - val_loss: 1.3820 - val_categorical_accuracy: 0.7917\n",
      "Epoch 40/150\n",
      "58/58 [==============================] - 128s 2s/step - loss: 0.0415 - categorical_accuracy: 0.9853 - val_loss: 1.8030 - val_categorical_accuracy: 0.7978\n",
      "Epoch 41/150\n",
      "58/58 [==============================] - 127s 2s/step - loss: 0.0494 - categorical_accuracy: 0.9818 - val_loss: 1.1158 - val_categorical_accuracy: 0.8069\n",
      "Epoch 42/150\n",
      "58/58 [==============================] - 127s 2s/step - loss: 0.0626 - categorical_accuracy: 0.9792 - val_loss: 2.5294 - val_categorical_accuracy: 0.7988\n",
      "Epoch 43/150\n",
      "58/58 [==============================] - 43438s 762s/step - loss: 0.0480 - categorical_accuracy: 0.9809 - val_loss: 1.1121 - val_categorical_accuracy: 0.7897\n",
      "Epoch 44/150\n",
      "58/58 [==============================] - 133s 2s/step - loss: 0.0413 - categorical_accuracy: 0.9844 - val_loss: 1.1489 - val_categorical_accuracy: 0.8059\n",
      "Epoch 45/150\n",
      "58/58 [==============================] - 126s 2s/step - loss: 0.0485 - categorical_accuracy: 0.9831 - val_loss: 2.6603 - val_categorical_accuracy: 0.7240\n",
      "Epoch 46/150\n",
      "58/58 [==============================] - 126s 2s/step - loss: 0.0445 - categorical_accuracy: 0.9840 - val_loss: 1.0150 - val_categorical_accuracy: 0.8099\n",
      "Epoch 47/150\n",
      "58/58 [==============================] - 126s 2s/step - loss: 0.0416 - categorical_accuracy: 0.9840 - val_loss: 1.5193 - val_categorical_accuracy: 0.7796\n",
      "Epoch 48/150\n",
      "58/58 [==============================] - 126s 2s/step - loss: 0.0303 - categorical_accuracy: 0.9892 - val_loss: 1.3408 - val_categorical_accuracy: 0.7887\n",
      "Epoch 49/150\n",
      "58/58 [==============================] - 125s 2s/step - loss: 0.0396 - categorical_accuracy: 0.9866 - val_loss: 1.4906 - val_categorical_accuracy: 0.8150\n",
      "Epoch 50/150\n"
     ]
    },
    {
     "name": "stdout",
     "output_type": "stream",
     "text": [
      "58/58 [==============================] - 127s 2s/step - loss: 0.0398 - categorical_accuracy: 0.9857 - val_loss: 1.3159 - val_categorical_accuracy: 0.7786\n",
      "Epoch 51/150\n",
      "58/58 [==============================] - 127s 2s/step - loss: 0.0582 - categorical_accuracy: 0.9831 - val_loss: 1.1189 - val_categorical_accuracy: 0.7776\n",
      "Epoch 52/150\n",
      "58/58 [==============================] - 127s 2s/step - loss: 0.0577 - categorical_accuracy: 0.9818 - val_loss: 3.3963 - val_categorical_accuracy: 0.6866\n",
      "Epoch 53/150\n",
      "58/58 [==============================] - 127s 2s/step - loss: 0.0446 - categorical_accuracy: 0.9861 - val_loss: 0.9831 - val_categorical_accuracy: 0.8311\n",
      "Epoch 54/150\n",
      "58/58 [==============================] - 127s 2s/step - loss: 0.0238 - categorical_accuracy: 0.9883 - val_loss: 1.4979 - val_categorical_accuracy: 0.7958\n",
      "Epoch 55/150\n",
      "58/58 [==============================] - 128s 2s/step - loss: 0.0204 - categorical_accuracy: 0.9887 - val_loss: 0.9677 - val_categorical_accuracy: 0.8402\n",
      "Epoch 56/150\n",
      "58/58 [==============================] - 127s 2s/step - loss: 0.0302 - categorical_accuracy: 0.9892 - val_loss: 2.3160 - val_categorical_accuracy: 0.7300\n",
      "Epoch 57/150\n",
      "58/58 [==============================] - 127s 2s/step - loss: 0.0451 - categorical_accuracy: 0.9857 - val_loss: 1.5754 - val_categorical_accuracy: 0.7846\n",
      "Epoch 58/150\n",
      "58/58 [==============================] - 11337s 199s/step - loss: 0.0430 - categorical_accuracy: 0.9892 - val_loss: 1.8809 - val_categorical_accuracy: 0.7260\n",
      "Epoch 59/150\n",
      "58/58 [==============================] - 128s 2s/step - loss: 0.0300 - categorical_accuracy: 0.9892 - val_loss: 1.9538 - val_categorical_accuracy: 0.7128\n",
      "Epoch 60/150\n",
      "58/58 [==============================] - 128s 2s/step - loss: 0.0288 - categorical_accuracy: 0.9896 - val_loss: 2.2820 - val_categorical_accuracy: 0.7017\n",
      "Epoch 61/150\n",
      "58/58 [==============================] - 128s 2s/step - loss: 0.0423 - categorical_accuracy: 0.9870 - val_loss: 1.7817 - val_categorical_accuracy: 0.7614\n",
      "Epoch 62/150\n",
      "58/58 [==============================] - 128s 2s/step - loss: 0.0479 - categorical_accuracy: 0.9835 - val_loss: 1.9238 - val_categorical_accuracy: 0.7037\n",
      "Epoch 63/150\n",
      "58/58 [==============================] - 128s 2s/step - loss: 0.0241 - categorical_accuracy: 0.9909 - val_loss: 1.6399 - val_categorical_accuracy: 0.7543\n",
      "Epoch 64/150\n",
      "58/58 [==============================] - 128s 2s/step - loss: 0.0246 - categorical_accuracy: 0.9896 - val_loss: 1.1465 - val_categorical_accuracy: 0.7937\n",
      "Epoch 65/150\n",
      "58/58 [==============================] - 128s 2s/step - loss: 0.0280 - categorical_accuracy: 0.9892 - val_loss: 1.1783 - val_categorical_accuracy: 0.8140\n",
      "Epoch 66/150\n",
      "58/58 [==============================] - 127s 2s/step - loss: 0.0270 - categorical_accuracy: 0.9918 - val_loss: 1.2319 - val_categorical_accuracy: 0.8028\n",
      "Epoch 67/150\n",
      "58/58 [==============================] - 127s 2s/step - loss: 0.0131 - categorical_accuracy: 0.9948 - val_loss: 1.6859 - val_categorical_accuracy: 0.7412\n",
      "Epoch 68/150\n",
      "58/58 [==============================] - 127s 2s/step - loss: 0.0182 - categorical_accuracy: 0.9948 - val_loss: 1.4405 - val_categorical_accuracy: 0.8028\n",
      "Epoch 69/150\n",
      "58/58 [==============================] - 127s 2s/step - loss: 0.0366 - categorical_accuracy: 0.9883 - val_loss: 2.9715 - val_categorical_accuracy: 0.6936\n",
      "Epoch 70/150\n",
      "58/58 [==============================] - 127s 2s/step - loss: 0.0502 - categorical_accuracy: 0.9870 - val_loss: 1.4246 - val_categorical_accuracy: 0.7968\n",
      "Epoch 71/150\n",
      "58/58 [==============================] - 127s 2s/step - loss: 0.0266 - categorical_accuracy: 0.9909 - val_loss: 1.8726 - val_categorical_accuracy: 0.7776\n",
      "Epoch 72/150\n",
      "58/58 [==============================] - 128s 2s/step - loss: 0.0202 - categorical_accuracy: 0.9935 - val_loss: 1.7341 - val_categorical_accuracy: 0.7644\n",
      "Epoch 73/150\n",
      "58/58 [==============================] - 127s 2s/step - loss: 0.0181 - categorical_accuracy: 0.9935 - val_loss: 2.1613 - val_categorical_accuracy: 0.7776\n",
      "Epoch 74/150\n",
      "58/58 [==============================] - 11504s 202s/step - loss: 0.0216 - categorical_accuracy: 0.9918 - val_loss: 1.3442 - val_categorical_accuracy: 0.7927\n",
      "Epoch 75/150\n",
      "58/58 [==============================] - 129s 2s/step - loss: 0.0163 - categorical_accuracy: 0.9926 - val_loss: 1.3072 - val_categorical_accuracy: 0.7867\n",
      "Epoch 76/150\n",
      "58/58 [==============================] - 128s 2s/step - loss: 0.0167 - categorical_accuracy: 0.9948 - val_loss: 1.5350 - val_categorical_accuracy: 0.7685\n",
      "Epoch 77/150\n",
      "58/58 [==============================] - 128s 2s/step - loss: 0.0254 - categorical_accuracy: 0.9905 - val_loss: 1.5811 - val_categorical_accuracy: 0.7897\n",
      "Epoch 78/150\n",
      "58/58 [==============================] - 128s 2s/step - loss: 0.0283 - categorical_accuracy: 0.9900 - val_loss: 1.4335 - val_categorical_accuracy: 0.7533\n",
      "Epoch 79/150\n",
      "58/58 [==============================] - 127s 2s/step - loss: 0.0368 - categorical_accuracy: 0.9913 - val_loss: 1.6878 - val_categorical_accuracy: 0.7695\n",
      "Epoch 80/150\n",
      "58/58 [==============================] - 128s 2s/step - loss: 0.0305 - categorical_accuracy: 0.9931 - val_loss: 1.1378 - val_categorical_accuracy: 0.8210\n",
      "Epoch 81/150\n",
      "58/58 [==============================] - 128s 2s/step - loss: 0.0133 - categorical_accuracy: 0.9935 - val_loss: 1.7106 - val_categorical_accuracy: 0.7897\n",
      "Epoch 82/150\n",
      "58/58 [==============================] - 128s 2s/step - loss: 0.0181 - categorical_accuracy: 0.9935 - val_loss: 2.1534 - val_categorical_accuracy: 0.7614\n",
      "Epoch 83/150\n",
      "58/58 [==============================] - 128s 2s/step - loss: 0.0177 - categorical_accuracy: 0.9931 - val_loss: 2.0772 - val_categorical_accuracy: 0.7492\n",
      "Epoch 84/150\n",
      "58/58 [==============================] - 128s 2s/step - loss: 0.0484 - categorical_accuracy: 0.9853 - val_loss: 2.3999 - val_categorical_accuracy: 0.7513\n",
      "Epoch 85/150\n",
      "58/58 [==============================] - 128s 2s/step - loss: 0.0232 - categorical_accuracy: 0.9931 - val_loss: 0.8724 - val_categorical_accuracy: 0.8311\n",
      "Epoch 86/150\n",
      "58/58 [==============================] - 128s 2s/step - loss: 0.0134 - categorical_accuracy: 0.9957 - val_loss: 1.2041 - val_categorical_accuracy: 0.8069\n",
      "Epoch 87/150\n",
      "58/58 [==============================] - 128s 2s/step - loss: 0.0269 - categorical_accuracy: 0.9922 - val_loss: 1.1856 - val_categorical_accuracy: 0.8170\n",
      "Epoch 88/150\n",
      "58/58 [==============================] - 8218s 144s/step - loss: 0.0225 - categorical_accuracy: 0.9926 - val_loss: 1.9963 - val_categorical_accuracy: 0.7937\n",
      "Epoch 89/150\n",
      "58/58 [==============================] - 1464s 26s/step - loss: 0.0112 - categorical_accuracy: 0.9948 - val_loss: 1.1197 - val_categorical_accuracy: 0.8200\n",
      "Epoch 90/150\n",
      "58/58 [==============================] - 128s 2s/step - loss: 0.0370 - categorical_accuracy: 0.9900 - val_loss: 1.4701 - val_categorical_accuracy: 0.7219\n",
      "Epoch 91/150\n",
      "58/58 [==============================] - 128s 2s/step - loss: 0.0250 - categorical_accuracy: 0.9944 - val_loss: 1.6733 - val_categorical_accuracy: 0.7796\n",
      "Epoch 92/150\n",
      "58/58 [==============================] - 130s 2s/step - loss: 0.0212 - categorical_accuracy: 0.9935 - val_loss: 2.5267 - val_categorical_accuracy: 0.7351\n",
      "Epoch 93/150\n",
      "58/58 [==============================] - 128s 2s/step - loss: 0.0316 - categorical_accuracy: 0.9918 - val_loss: 1.8550 - val_categorical_accuracy: 0.7685\n",
      "Epoch 94/150\n",
      "58/58 [==============================] - 128s 2s/step - loss: 0.0154 - categorical_accuracy: 0.9948 - val_loss: 1.8560 - val_categorical_accuracy: 0.7786\n",
      "Epoch 95/150\n",
      "58/58 [==============================] - 128s 2s/step - loss: 0.0144 - categorical_accuracy: 0.9939 - val_loss: 3.0552 - val_categorical_accuracy: 0.6896\n",
      "Epoch 96/150\n",
      "58/58 [==============================] - 128s 2s/step - loss: 0.0138 - categorical_accuracy: 0.9965 - val_loss: 1.6546 - val_categorical_accuracy: 0.7978\n",
      "Epoch 97/150\n",
      "58/58 [==============================] - 128s 2s/step - loss: 0.0253 - categorical_accuracy: 0.9931 - val_loss: 1.8368 - val_categorical_accuracy: 0.7523\n",
      "Epoch 98/150\n",
      "58/58 [==============================] - 128s 2s/step - loss: 0.0135 - categorical_accuracy: 0.9961 - val_loss: 1.2827 - val_categorical_accuracy: 0.7816\n",
      "Epoch 99/150\n"
     ]
    },
    {
     "name": "stdout",
     "output_type": "stream",
     "text": [
      "58/58 [==============================] - 128s 2s/step - loss: 0.0217 - categorical_accuracy: 0.9922 - val_loss: 1.3614 - val_categorical_accuracy: 0.8109\n",
      "Epoch 100/150\n",
      "58/58 [==============================] - 128s 2s/step - loss: 0.0275 - categorical_accuracy: 0.9918 - val_loss: 1.4200 - val_categorical_accuracy: 0.7735\n",
      "Epoch 101/150\n",
      "58/58 [==============================] - 127s 2s/step - loss: 0.0188 - categorical_accuracy: 0.9939 - val_loss: 1.1317 - val_categorical_accuracy: 0.8059\n",
      "Epoch 102/150\n",
      "58/58 [==============================] - 128s 2s/step - loss: 0.0077 - categorical_accuracy: 0.9974 - val_loss: 1.3692 - val_categorical_accuracy: 0.8018\n",
      "Epoch 103/150\n",
      "58/58 [==============================] - 128s 2s/step - loss: 0.0168 - categorical_accuracy: 0.9948 - val_loss: 1.5036 - val_categorical_accuracy: 0.7391\n",
      "Epoch 104/150\n",
      "58/58 [==============================] - 16567s 291s/step - loss: 0.0175 - categorical_accuracy: 0.9948 - val_loss: 1.1627 - val_categorical_accuracy: 0.8160\n",
      "Epoch 105/150\n",
      "58/58 [==============================] - 128s 2s/step - loss: 0.0100 - categorical_accuracy: 0.9957 - val_loss: 1.3068 - val_categorical_accuracy: 0.7998\n",
      "Epoch 106/150\n",
      "58/58 [==============================] - 131s 2s/step - loss: 0.0192 - categorical_accuracy: 0.9939 - val_loss: 2.5328 - val_categorical_accuracy: 0.7776\n",
      "Epoch 107/150\n",
      "58/58 [==============================] - 127s 2s/step - loss: 0.0322 - categorical_accuracy: 0.9900 - val_loss: 1.0785 - val_categorical_accuracy: 0.8008\n",
      "Epoch 108/150\n",
      "58/58 [==============================] - 130s 2s/step - loss: 0.0131 - categorical_accuracy: 0.9944 - val_loss: 1.4237 - val_categorical_accuracy: 0.7705\n",
      "Epoch 109/150\n",
      "58/58 [==============================] - 131s 2s/step - loss: 0.0201 - categorical_accuracy: 0.9961 - val_loss: 1.2245 - val_categorical_accuracy: 0.8109\n",
      "Epoch 110/150\n",
      "58/58 [==============================] - 146s 3s/step - loss: 0.0276 - categorical_accuracy: 0.9896 - val_loss: 1.2333 - val_categorical_accuracy: 0.7877\n",
      "Epoch 111/150\n",
      "58/58 [==============================] - 127s 2s/step - loss: 0.0181 - categorical_accuracy: 0.9935 - val_loss: 1.2738 - val_categorical_accuracy: 0.8322\n",
      "Epoch 112/150\n",
      "58/58 [==============================] - 145s 3s/step - loss: 0.0181 - categorical_accuracy: 0.9957 - val_loss: 1.1844 - val_categorical_accuracy: 0.8311\n",
      "Epoch 113/150\n",
      "58/58 [==============================] - 138s 2s/step - loss: 0.0123 - categorical_accuracy: 0.9952 - val_loss: 1.1314 - val_categorical_accuracy: 0.7947\n",
      "Epoch 114/150\n",
      "58/58 [==============================] - 144s 2s/step - loss: 0.0139 - categorical_accuracy: 0.9935 - val_loss: 1.0817 - val_categorical_accuracy: 0.7978\n",
      "Epoch 115/150\n",
      "58/58 [==============================] - 135s 2s/step - loss: 0.0181 - categorical_accuracy: 0.9926 - val_loss: 2.0763 - val_categorical_accuracy: 0.7907\n",
      "Epoch 116/150\n",
      "58/58 [==============================] - 128s 2s/step - loss: 0.0189 - categorical_accuracy: 0.9957 - val_loss: 1.0228 - val_categorical_accuracy: 0.8089\n",
      "Epoch 117/150\n",
      "58/58 [==============================] - 128s 2s/step - loss: 0.0171 - categorical_accuracy: 0.9931 - val_loss: 1.7531 - val_categorical_accuracy: 0.7725\n",
      "Epoch 118/150\n",
      "58/58 [==============================] - 128s 2s/step - loss: 0.0210 - categorical_accuracy: 0.9935 - val_loss: 1.2252 - val_categorical_accuracy: 0.7604\n",
      "Epoch 119/150\n",
      "58/58 [==============================] - 128s 2s/step - loss: 0.0136 - categorical_accuracy: 0.9957 - val_loss: 3.3229 - val_categorical_accuracy: 0.7088\n",
      "Epoch 120/150\n",
      "58/58 [==============================] - 127s 2s/step - loss: 0.0095 - categorical_accuracy: 0.9970 - val_loss: 1.3754 - val_categorical_accuracy: 0.7937\n",
      "Epoch 121/150\n",
      "58/58 [==============================] - 137s 2s/step - loss: 0.0103 - categorical_accuracy: 0.9974 - val_loss: 1.9968 - val_categorical_accuracy: 0.8038\n",
      "Epoch 122/150\n",
      "58/58 [==============================] - 128s 2s/step - loss: 0.0179 - categorical_accuracy: 0.9944 - val_loss: 1.7701 - val_categorical_accuracy: 0.7695\n",
      "Epoch 123/150\n",
      "58/58 [==============================] - 128s 2s/step - loss: 0.0294 - categorical_accuracy: 0.9913 - val_loss: 1.4656 - val_categorical_accuracy: 0.7432\n",
      "Epoch 124/150\n",
      "58/58 [==============================] - 128s 2s/step - loss: 0.0121 - categorical_accuracy: 0.9952 - val_loss: 1.5892 - val_categorical_accuracy: 0.8069\n",
      "Epoch 125/150\n",
      "58/58 [==============================] - 140s 2s/step - loss: 0.0105 - categorical_accuracy: 0.9974 - val_loss: 1.6552 - val_categorical_accuracy: 0.7856\n",
      "Epoch 126/150\n",
      "58/58 [==============================] - 136s 2s/step - loss: 0.0072 - categorical_accuracy: 0.9978 - val_loss: 1.5939 - val_categorical_accuracy: 0.8049\n",
      "Epoch 127/150\n",
      "58/58 [==============================] - 131s 2s/step - loss: 0.0127 - categorical_accuracy: 0.9944 - val_loss: 1.4023 - val_categorical_accuracy: 0.8200\n",
      "Epoch 128/150\n",
      "58/58 [==============================] - 128s 2s/step - loss: 0.0145 - categorical_accuracy: 0.9948 - val_loss: 1.8099 - val_categorical_accuracy: 0.7472\n",
      "Epoch 129/150\n",
      "58/58 [==============================] - 131s 2s/step - loss: 0.0066 - categorical_accuracy: 0.9978 - val_loss: 1.3950 - val_categorical_accuracy: 0.8352\n",
      "Epoch 130/150\n",
      "58/58 [==============================] - 141s 2s/step - loss: 0.0074 - categorical_accuracy: 0.9965 - val_loss: 1.0897 - val_categorical_accuracy: 0.8291\n",
      "Epoch 131/150\n",
      "58/58 [==============================] - 128s 2s/step - loss: 0.0052 - categorical_accuracy: 0.9974 - val_loss: 1.9949 - val_categorical_accuracy: 0.7877\n",
      "Epoch 132/150\n",
      "58/58 [==============================] - 128s 2s/step - loss: 0.0150 - categorical_accuracy: 0.9965 - val_loss: 0.9798 - val_categorical_accuracy: 0.8008\n",
      "Epoch 133/150\n",
      "58/58 [==============================] - 131s 2s/step - loss: 0.0277 - categorical_accuracy: 0.9926 - val_loss: 1.1459 - val_categorical_accuracy: 0.7776\n",
      "Epoch 134/150\n",
      "58/58 [==============================] - 132s 2s/step - loss: 0.0461 - categorical_accuracy: 0.9918 - val_loss: 1.5991 - val_categorical_accuracy: 0.8160\n",
      "Epoch 135/150\n",
      "58/58 [==============================] - 128s 2s/step - loss: 0.0158 - categorical_accuracy: 0.9957 - val_loss: 1.5366 - val_categorical_accuracy: 0.8150\n",
      "Epoch 136/150\n",
      "58/58 [==============================] - 131s 2s/step - loss: 0.0136 - categorical_accuracy: 0.9970 - val_loss: 0.9283 - val_categorical_accuracy: 0.7553\n",
      "Epoch 137/150\n",
      "58/58 [==============================] - 128s 2s/step - loss: 0.0060 - categorical_accuracy: 0.9978 - val_loss: 1.5269 - val_categorical_accuracy: 0.8281\n",
      "Epoch 138/150\n",
      "58/58 [==============================] - 128s 2s/step - loss: 0.0112 - categorical_accuracy: 0.9957 - val_loss: 0.8504 - val_categorical_accuracy: 0.8038\n",
      "Epoch 139/150\n",
      "58/58 [==============================] - 139s 2s/step - loss: 0.0209 - categorical_accuracy: 0.9935 - val_loss: 1.6417 - val_categorical_accuracy: 0.7735\n",
      "Epoch 140/150\n",
      "58/58 [==============================] - 138s 2s/step - loss: 0.0100 - categorical_accuracy: 0.9970 - val_loss: 1.2985 - val_categorical_accuracy: 0.8301\n",
      "Epoch 141/150\n",
      "58/58 [==============================] - 131s 2s/step - loss: 0.0120 - categorical_accuracy: 0.9961 - val_loss: 1.2448 - val_categorical_accuracy: 0.8190\n",
      "Epoch 142/150\n",
      "58/58 [==============================] - 134s 2s/step - loss: 0.0274 - categorical_accuracy: 0.9931 - val_loss: 1.4419 - val_categorical_accuracy: 0.8099\n",
      "Epoch 143/150\n",
      "58/58 [==============================] - 134s 2s/step - loss: 0.0321 - categorical_accuracy: 0.9931 - val_loss: 1.2034 - val_categorical_accuracy: 0.6775\n",
      "Epoch 144/150\n",
      "58/58 [==============================] - 129s 2s/step - loss: 0.0124 - categorical_accuracy: 0.9961 - val_loss: 1.0797 - val_categorical_accuracy: 0.8109\n",
      "Epoch 145/150\n",
      "58/58 [==============================] - 129s 2s/step - loss: 0.0083 - categorical_accuracy: 0.9965 - val_loss: 2.4201 - val_categorical_accuracy: 0.7169\n",
      "Epoch 146/150\n",
      "58/58 [==============================] - 127s 2s/step - loss: 0.0103 - categorical_accuracy: 0.9965 - val_loss: 1.4563 - val_categorical_accuracy: 0.8119\n",
      "Epoch 147/150\n",
      "58/58 [==============================] - 128s 2s/step - loss: 0.0071 - categorical_accuracy: 0.9983 - val_loss: 1.2337 - val_categorical_accuracy: 0.8241\n"
     ]
    },
    {
     "name": "stdout",
     "output_type": "stream",
     "text": [
      "Epoch 148/150\n",
      "58/58 [==============================] - 127s 2s/step - loss: 0.0042 - categorical_accuracy: 0.9987 - val_loss: 1.3117 - val_categorical_accuracy: 0.8311\n",
      "Epoch 149/150\n",
      "58/58 [==============================] - 139s 2s/step - loss: 0.0074 - categorical_accuracy: 0.9978 - val_loss: 1.9530 - val_categorical_accuracy: 0.8119\n",
      "Epoch 150/150\n",
      "58/58 [==============================] - 130s 2s/step - loss: 0.0109 - categorical_accuracy: 0.9961 - val_loss: 1.3061 - val_categorical_accuracy: 0.7391\n"
     ]
    }
   ],
   "source": [
    "history=model1.fit(x_train, y_train, epochs=150,batch_size = batch_size,validation_data= (x_Test, y_Test), shuffle=True)"
   ]
  },
  {
   "cell_type": "markdown",
   "metadata": {},
   "source": [
    "The accuracy and loss graphs are obtained"
   ]
  },
  {
   "cell_type": "code",
   "execution_count": 25,
   "metadata": {},
   "outputs": [
    {
     "data": {
      "image/png": "[encoded data removed]",
      "text/plain": [
       "<Figure size 432x288 with 1 Axes>"
      ]
     },
     "metadata": {
      "needs_background": "light"
     },
     "output_type": "display_data"
    }
   ],
   "source": [
    "plt.plot(history.history['categorical_accuracy'])\n",
    "plt.title('model accuracy')\n",
    "plt.ylabel('accuracy')\n",
    "plt.xlabel('epoch')\n",
    "plt.legend(['train'], loc='upper left')\n",
    "plt.show()"
   ]
  },
  {
   "cell_type": "code",
   "execution_count": 26,
   "metadata": {},
   "outputs": [
    {
     "data": {
      "image/png": "[encoded data removed]",
      "text/plain": [
       "<Figure size 432x288 with 1 Axes>"
      ]
     },
     "metadata": {
      "needs_background": "light"
     },
     "output_type": "display_data"
    }
   ],
   "source": [
    "plt.plot(history.history['loss'])\n",
    "plt.title('model loss')\n",
    "plt.ylabel('loss')\n",
    "plt.xlabel('epoch')\n",
    "plt.legend(['train'], loc='upper right')\n",
    "plt.show()"
   ]
  },
  {
   "cell_type": "markdown",
   "metadata": {},
   "source": [
    "The classification report of the test data is printed"
   ]
  },
  {
   "cell_type": "code",
   "execution_count": 28,
   "metadata": {},
   "outputs": [
    {
     "name": "stdout",
     "output_type": "stream",
     "text": [
      "31/31 [==============================] - 8s 253ms/step\n",
      "              precision    recall  f1-score   support\n",
      "\n",
      "           0       0.79      0.71      0.75       540\n",
      "           1       0.69      0.78      0.73       449\n",
      "\n",
      "    accuracy                           0.74       989\n",
      "   macro avg       0.74      0.74      0.74       989\n",
      "weighted avg       0.75      0.74      0.74       989\n",
      "\n"
     ]
    }
   ],
   "source": [
    "from sklearn.metrics import classification_report\n",
    "pred = model.predict(x_Test, batch_size=32, verbose=1)\n",
    "predicted = np.argmax(pred, axis=1)\n",
    "report = classification_report(np.argmax(y_Test, axis=1), predicted)\n",
    "print(report)"
   ]
  },
  {
   "cell_type": "markdown",
   "metadata": {},
   "source": [
    "After observing the CPVS of the test samples and the respective outputs, the threshold is calculated as 99.99995 and the BSD is created"
   ]
  },
  {
   "cell_type": "code",
   "execution_count": 36,
   "metadata": {},
   "outputs": [],
   "source": [
    "from PIL import Image\n",
    "import numpy as np\n",
    "import os \n",
    "for i in range(989):\n",
    "    if abs((pred[i][0]*100) - (pred[i][1]*100)) < 99.99995 :\n",
    "        img = Image.fromarray(x_Test[i], 'RGB')\n",
    "        if np.argmax(y_Test[i])== 0:\n",
    "                img.save(os.path.join('final/benign/',str(i)+'.jpg'))\n",
    "        if np.argmax(y_Test[i])== 1:\n",
    "                img.save(os.path.join('final/malignant/', str(i)+'.jpg'))"
   ]
  }
 ],
 "metadata": {
  "kernelspec": {
   "display_name": "Python 3 (ipykernel)",
   "language": "python",
   "name": "python3"
  },
  "language_info": {
   "codemirror_mode": {
    "name": "ipython",
    "version": 3
   },
   "file_extension": ".py",
   "mimetype": "text/x-python",
   "name": "python",
   "nbconvert_exporter": "python",
   "pygments_lexer": "ipython3",
   "version": "3.9.7"
  }
 },
 "nbformat": 4,
 "nbformat_minor": 4
}
